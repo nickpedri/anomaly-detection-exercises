{
 "cells": [
  {
   "cell_type": "markdown",
   "id": "da39da06-0f8d-436b-a89b-7567b583b795",
   "metadata": {},
   "source": [
    "# Detect Through Clustering\n",
    "\n",
    "file name: clustering_anomaly_detection.py or clustering_anomaly_detection.ipynb"
   ]
  },
  {
   "cell_type": "markdown",
   "id": "b44e3ba5-2d5e-48a2-a985-3af0fe5c0b9f",
   "metadata": {},
   "source": [
    "Clustering - DBSCAN\n",
    "\n",
    "* Use DBSCAN to detect anomalies in other products from the customers dataset. The database name is grocery_db."
   ]
  },
  {
   "cell_type": "markdown",
   "id": "7e317d57-4b54-4673-9da9-085c4d160174",
   "metadata": {},
   "source": [
    "* Use DBSCAN to detect anomalies in requests from the curriculum access logs in the curriculum_logs database."
   ]
  },
  {
   "cell_type": "markdown",
   "id": "fd4c417f-3979-40b9-8008-6f89445db43d",
   "metadata": {},
   "source": [
    "* Use DBSCAN to detect anomalies in number of bedrooms and finished square feet of property for the filtered dataset you used in the clustering project (single unit properties with a logerror)."
   ]
  }
 ],
 "metadata": {
  "kernelspec": {
   "display_name": "Python 3 (ipykernel)",
   "language": "python",
   "name": "python3"
  },
  "language_info": {
   "codemirror_mode": {
    "name": "ipython",
    "version": 3
   },
   "file_extension": ".py",
   "mimetype": "text/x-python",
   "name": "python",
   "nbconvert_exporter": "python",
   "pygments_lexer": "ipython3",
   "version": "3.10.9"
  }
 },
 "nbformat": 4,
 "nbformat_minor": 5
}
